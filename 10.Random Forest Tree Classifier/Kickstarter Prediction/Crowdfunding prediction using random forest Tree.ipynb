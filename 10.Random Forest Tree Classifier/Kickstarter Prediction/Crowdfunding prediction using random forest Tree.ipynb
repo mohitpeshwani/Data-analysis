{
 "cells": [
  {
   "cell_type": "code",
   "execution_count": 2,
   "metadata": {},
   "outputs": [],
   "source": [
    "import pandas as pd\n",
    "import numpy as np\n",
    "import matplotlib.pyplot as plt\n",
    "import seaborn as sns"
   ]
  },
  {
   "cell_type": "code",
   "execution_count": 3,
   "metadata": {},
   "outputs": [],
   "source": [
    "df=pd.read_csv('ks_data.csv')"
   ]
  },
  {
   "cell_type": "code",
   "execution_count": 4,
   "metadata": {},
   "outputs": [
    {
     "data": {
      "text/html": [
       "<div>\n",
       "<style scoped>\n",
       "    .dataframe tbody tr th:only-of-type {\n",
       "        vertical-align: middle;\n",
       "    }\n",
       "\n",
       "    .dataframe tbody tr th {\n",
       "        vertical-align: top;\n",
       "    }\n",
       "\n",
       "    .dataframe thead th {\n",
       "        text-align: right;\n",
       "    }\n",
       "</style>\n",
       "<table border=\"1\" class=\"dataframe\">\n",
       "  <thead>\n",
       "    <tr style=\"text-align: right;\">\n",
       "      <th></th>\n",
       "      <th>SID</th>\n",
       "      <th>main_category</th>\n",
       "      <th>deadline_date</th>\n",
       "      <th>deadline_month</th>\n",
       "      <th>launched_date</th>\n",
       "      <th>launched_month</th>\n",
       "      <th>Length_of_fundraising</th>\n",
       "      <th>backers</th>\n",
       "      <th>country</th>\n",
       "      <th>usd_pledged</th>\n",
       "      <th>usd_goal</th>\n",
       "    </tr>\n",
       "  </thead>\n",
       "  <tbody>\n",
       "    <tr>\n",
       "      <th>0</th>\n",
       "      <td>1</td>\n",
       "      <td>Publishing</td>\n",
       "      <td>10/9/2015</td>\n",
       "      <td>October</td>\n",
       "      <td>8/11/2015</td>\n",
       "      <td>August</td>\n",
       "      <td>59</td>\n",
       "      <td>0</td>\n",
       "      <td>GB</td>\n",
       "      <td>0.0</td>\n",
       "      <td>1533.95</td>\n",
       "    </tr>\n",
       "    <tr>\n",
       "      <th>1</th>\n",
       "      <td>2</td>\n",
       "      <td>Film &amp; Video</td>\n",
       "      <td>11/1/2017</td>\n",
       "      <td>November</td>\n",
       "      <td>9/2/2017</td>\n",
       "      <td>September</td>\n",
       "      <td>60</td>\n",
       "      <td>15</td>\n",
       "      <td>US</td>\n",
       "      <td>2421.0</td>\n",
       "      <td>30000.00</td>\n",
       "    </tr>\n",
       "    <tr>\n",
       "      <th>2</th>\n",
       "      <td>3</td>\n",
       "      <td>Film &amp; Video</td>\n",
       "      <td>2/26/2013</td>\n",
       "      <td>February</td>\n",
       "      <td>1/12/2013</td>\n",
       "      <td>January</td>\n",
       "      <td>45</td>\n",
       "      <td>3</td>\n",
       "      <td>US</td>\n",
       "      <td>220.0</td>\n",
       "      <td>45000.00</td>\n",
       "    </tr>\n",
       "    <tr>\n",
       "      <th>3</th>\n",
       "      <td>4</td>\n",
       "      <td>Music</td>\n",
       "      <td>4/16/2012</td>\n",
       "      <td>April</td>\n",
       "      <td>3/17/2012</td>\n",
       "      <td>March</td>\n",
       "      <td>30</td>\n",
       "      <td>1</td>\n",
       "      <td>US</td>\n",
       "      <td>1.0</td>\n",
       "      <td>5000.00</td>\n",
       "    </tr>\n",
       "    <tr>\n",
       "      <th>4</th>\n",
       "      <td>5</td>\n",
       "      <td>Food</td>\n",
       "      <td>3/17/2016</td>\n",
       "      <td>March</td>\n",
       "      <td>2/1/2016</td>\n",
       "      <td>February</td>\n",
       "      <td>45</td>\n",
       "      <td>40</td>\n",
       "      <td>US</td>\n",
       "      <td>453.0</td>\n",
       "      <td>25000.00</td>\n",
       "    </tr>\n",
       "  </tbody>\n",
       "</table>\n",
       "</div>"
      ],
      "text/plain": [
       "   SID main_category deadline_date deadline_month launched_date  \\\n",
       "0    1    Publishing     10/9/2015        October     8/11/2015   \n",
       "1    2  Film & Video     11/1/2017       November      9/2/2017   \n",
       "2    3  Film & Video     2/26/2013       February     1/12/2013   \n",
       "3    4         Music     4/16/2012          April     3/17/2012   \n",
       "4    5          Food     3/17/2016          March      2/1/2016   \n",
       "\n",
       "  launched_month  Length_of_fundraising  backers country  usd_pledged  \\\n",
       "0         August                     59        0      GB          0.0   \n",
       "1      September                     60       15      US       2421.0   \n",
       "2        January                     45        3      US        220.0   \n",
       "3          March                     30        1      US          1.0   \n",
       "4       February                     45       40      US        453.0   \n",
       "\n",
       "   usd_goal  \n",
       "0   1533.95  \n",
       "1  30000.00  \n",
       "2  45000.00  \n",
       "3   5000.00  \n",
       "4  25000.00  "
      ]
     },
     "execution_count": 4,
     "metadata": {},
     "output_type": "execute_result"
    }
   ],
   "source": [
    "df.head()"
   ]
  },
  {
   "cell_type": "markdown",
   "metadata": {},
   "source": [
    "##### Data Analysis on KS dataset"
   ]
  },
  {
   "cell_type": "code",
   "execution_count": 5,
   "metadata": {},
   "outputs": [
    {
     "data": {
      "text/plain": [
       "Film & Video    56527\n",
       "Music           45949\n",
       "Publishing      35445\n",
       "Games           28521\n",
       "Technology      27050\n",
       "Art             25641\n",
       "Design          25364\n",
       "Food            22054\n",
       "Fashion         19775\n",
       "Theater         10242\n",
       "Comics           9878\n",
       "Photography      9689\n",
       "Crafts           7818\n",
       "Journalism       4149\n",
       "Dance            3573\n",
       "Name: main_category, dtype: int64"
      ]
     },
     "execution_count": 5,
     "metadata": {},
     "output_type": "execute_result"
    }
   ],
   "source": [
    "df.main_category.value_counts()"
   ]
  },
  {
   "cell_type": "code",
   "execution_count": 6,
   "metadata": {},
   "outputs": [
    {
     "data": {
      "text/plain": [
       "Film & Video    0.170429\n",
       "Music           0.138536\n",
       "Publishing      0.106867\n",
       "Games           0.085991\n",
       "Technology      0.081556\n",
       "Art             0.077308\n",
       "Design          0.076472\n",
       "Food            0.066493\n",
       "Fashion         0.059622\n",
       "Theater         0.030880\n",
       "Comics          0.029782\n",
       "Photography     0.029212\n",
       "Crafts          0.023571\n",
       "Journalism      0.012509\n",
       "Dance           0.010773\n",
       "Name: main_category, dtype: float64"
      ]
     },
     "execution_count": 6,
     "metadata": {},
     "output_type": "execute_result"
    }
   ],
   "source": [
    "df.main_category.value_counts(normalize=True)"
   ]
  },
  {
   "cell_type": "code",
   "execution_count": 7,
   "metadata": {},
   "outputs": [
    {
     "data": {
      "text/plain": [
       "<AxesSubplot:xlabel='main_category', ylabel='count'>"
      ]
     },
     "execution_count": 7,
     "metadata": {},
     "output_type": "execute_result"
    },
    {
     "data": {
      "image/png": "[encoded data removed]",
      "text/plain": [
       "<Figure size 1080x720 with 1 Axes>"
      ]
     },
     "metadata": {
      "needs_background": "light"
     },
     "output_type": "display_data"
    }
   ],
   "source": [
    "plt.figure(figsize=(15,10))\n",
    "sns.countplot(x=\"main_category\",data=df)"
   ]
  },
  {
   "cell_type": "code",
   "execution_count": 8,
   "metadata": {},
   "outputs": [
    {
     "data": {
      "text/plain": [
       "July         32007\n",
       "March        30100\n",
       "October      29375\n",
       "May          29175\n",
       "June         28973\n",
       "April        28577\n",
       "November     28504\n",
       "August       28405\n",
       "September    27406\n",
       "February     26277\n",
       "January      24413\n",
       "December     18463\n",
       "Name: launched_month, dtype: int64"
      ]
     },
     "execution_count": 8,
     "metadata": {},
     "output_type": "execute_result"
    }
   ],
   "source": [
    "df.launched_month.value_counts()"
   ]
  },
  {
   "cell_type": "code",
   "execution_count": 9,
   "metadata": {},
   "outputs": [
    {
     "data": {
      "text/plain": [
       "July         0.096501\n",
       "March        0.090751\n",
       "October      0.088566\n",
       "May          0.087963\n",
       "June         0.087354\n",
       "April        0.086160\n",
       "November     0.085940\n",
       "August       0.085641\n",
       "September    0.082629\n",
       "February     0.079225\n",
       "January      0.073605\n",
       "December     0.055666\n",
       "Name: launched_month, dtype: float64"
      ]
     },
     "execution_count": 9,
     "metadata": {},
     "output_type": "execute_result"
    }
   ],
   "source": [
    "df.launched_month.value_counts(normalize=True)"
   ]
  },
  {
   "cell_type": "code",
   "execution_count": 10,
   "metadata": {},
   "outputs": [
    {
     "data": {
      "text/plain": [
       "<AxesSubplot:xlabel='launched_month', ylabel='count'>"
      ]
     },
     "execution_count": 10,
     "metadata": {},
     "output_type": "execute_result"
    },
    {
     "data": {
      "image/png": "[encoded data removed]",
      "text/plain": [
       "<Figure size 1080x720 with 1 Axes>"
      ]
     },
     "metadata": {
      "needs_background": "light"
     },
     "output_type": "display_data"
    }
   ],
   "source": [
    "plt.figure(figsize=(15,10))\n",
    "sns.countplot(x=\"launched_month\",data=df)"
   ]
  },
  {
   "cell_type": "code",
   "execution_count": 11,
   "metadata": {},
   "outputs": [],
   "source": [
    "correlation=df.corr()"
   ]
  },
  {
   "cell_type": "code",
   "execution_count": 12,
   "metadata": {},
   "outputs": [
    {
     "data": {
      "text/plain": [
       "<AxesSubplot:>"
      ]
     },
     "execution_count": 12,
     "metadata": {},
     "output_type": "execute_result"
    },
    {
     "data": {
      "image/png": "[encoded data removed]",
      "text/plain": [
       "<Figure size 432x288 with 2 Axes>"
      ]
     },
     "metadata": {
      "needs_background": "light"
     },
     "output_type": "display_data"
    }
   ],
   "source": [
    "sns.heatmap(correlation)"
   ]
  },
  {
   "cell_type": "markdown",
   "metadata": {},
   "source": [
    "##### Label Encoding of the Main Category"
   ]
  },
  {
   "cell_type": "code",
   "execution_count": 13,
   "metadata": {},
   "outputs": [],
   "source": [
    "from sklearn.preprocessing import LabelEncoder"
   ]
  },
  {
   "cell_type": "code",
   "execution_count": 14,
   "metadata": {},
   "outputs": [],
   "source": [
    "le=LabelEncoder()"
   ]
  },
  {
   "cell_type": "code",
   "execution_count": 15,
   "metadata": {},
   "outputs": [
    {
     "name": "stderr",
     "output_type": "stream",
     "text": [
      "D:\\Development\\Anaconda\\lib\\site-packages\\sklearn\\utils\\validation.py:72: DataConversionWarning: A column-vector y was passed when a 1d array was expected. Please change the shape of y to (n_samples, ), for example using ravel().\n",
      "  return f(**kwargs)\n"
     ]
    }
   ],
   "source": [
    "df[['main_cat_no']]=le.fit_transform(df[['main_category']])"
   ]
  },
  {
   "cell_type": "code",
   "execution_count": 16,
   "metadata": {},
   "outputs": [
    {
     "data": {
      "text/html": [
       "<div>\n",
       "<style scoped>\n",
       "    .dataframe tbody tr th:only-of-type {\n",
       "        vertical-align: middle;\n",
       "    }\n",
       "\n",
       "    .dataframe tbody tr th {\n",
       "        vertical-align: top;\n",
       "    }\n",
       "\n",
       "    .dataframe thead th {\n",
       "        text-align: right;\n",
       "    }\n",
       "</style>\n",
       "<table border=\"1\" class=\"dataframe\">\n",
       "  <thead>\n",
       "    <tr style=\"text-align: right;\">\n",
       "      <th></th>\n",
       "      <th>SID</th>\n",
       "      <th>main_category</th>\n",
       "      <th>deadline_date</th>\n",
       "      <th>deadline_month</th>\n",
       "      <th>launched_date</th>\n",
       "      <th>launched_month</th>\n",
       "      <th>Length_of_fundraising</th>\n",
       "      <th>backers</th>\n",
       "      <th>country</th>\n",
       "      <th>usd_pledged</th>\n",
       "      <th>usd_goal</th>\n",
       "      <th>main_cat_no</th>\n",
       "    </tr>\n",
       "  </thead>\n",
       "  <tbody>\n",
       "    <tr>\n",
       "      <th>0</th>\n",
       "      <td>1</td>\n",
       "      <td>Publishing</td>\n",
       "      <td>10/9/2015</td>\n",
       "      <td>October</td>\n",
       "      <td>8/11/2015</td>\n",
       "      <td>August</td>\n",
       "      <td>59</td>\n",
       "      <td>0</td>\n",
       "      <td>GB</td>\n",
       "      <td>0.00</td>\n",
       "      <td>1533.95</td>\n",
       "      <td>12</td>\n",
       "    </tr>\n",
       "    <tr>\n",
       "      <th>1</th>\n",
       "      <td>2</td>\n",
       "      <td>Film &amp; Video</td>\n",
       "      <td>11/1/2017</td>\n",
       "      <td>November</td>\n",
       "      <td>9/2/2017</td>\n",
       "      <td>September</td>\n",
       "      <td>60</td>\n",
       "      <td>15</td>\n",
       "      <td>US</td>\n",
       "      <td>2421.00</td>\n",
       "      <td>30000.00</td>\n",
       "      <td>6</td>\n",
       "    </tr>\n",
       "    <tr>\n",
       "      <th>2</th>\n",
       "      <td>3</td>\n",
       "      <td>Film &amp; Video</td>\n",
       "      <td>2/26/2013</td>\n",
       "      <td>February</td>\n",
       "      <td>1/12/2013</td>\n",
       "      <td>January</td>\n",
       "      <td>45</td>\n",
       "      <td>3</td>\n",
       "      <td>US</td>\n",
       "      <td>220.00</td>\n",
       "      <td>45000.00</td>\n",
       "      <td>6</td>\n",
       "    </tr>\n",
       "    <tr>\n",
       "      <th>3</th>\n",
       "      <td>4</td>\n",
       "      <td>Music</td>\n",
       "      <td>4/16/2012</td>\n",
       "      <td>April</td>\n",
       "      <td>3/17/2012</td>\n",
       "      <td>March</td>\n",
       "      <td>30</td>\n",
       "      <td>1</td>\n",
       "      <td>US</td>\n",
       "      <td>1.00</td>\n",
       "      <td>5000.00</td>\n",
       "      <td>10</td>\n",
       "    </tr>\n",
       "    <tr>\n",
       "      <th>4</th>\n",
       "      <td>5</td>\n",
       "      <td>Food</td>\n",
       "      <td>3/17/2016</td>\n",
       "      <td>March</td>\n",
       "      <td>2/1/2016</td>\n",
       "      <td>February</td>\n",
       "      <td>45</td>\n",
       "      <td>40</td>\n",
       "      <td>US</td>\n",
       "      <td>453.00</td>\n",
       "      <td>25000.00</td>\n",
       "      <td>7</td>\n",
       "    </tr>\n",
       "    <tr>\n",
       "      <th>...</th>\n",
       "      <td>...</td>\n",
       "      <td>...</td>\n",
       "      <td>...</td>\n",
       "      <td>...</td>\n",
       "      <td>...</td>\n",
       "      <td>...</td>\n",
       "      <td>...</td>\n",
       "      <td>...</td>\n",
       "      <td>...</td>\n",
       "      <td>...</td>\n",
       "      <td>...</td>\n",
       "      <td>...</td>\n",
       "    </tr>\n",
       "    <tr>\n",
       "      <th>331670</th>\n",
       "      <td>331671</td>\n",
       "      <td>Games</td>\n",
       "      <td>10/31/2017</td>\n",
       "      <td>October</td>\n",
       "      <td>10/4/2017</td>\n",
       "      <td>October</td>\n",
       "      <td>27</td>\n",
       "      <td>35</td>\n",
       "      <td>FR</td>\n",
       "      <td>1452.47</td>\n",
       "      <td>1165.70</td>\n",
       "      <td>8</td>\n",
       "    </tr>\n",
       "    <tr>\n",
       "      <th>331671</th>\n",
       "      <td>331672</td>\n",
       "      <td>Design</td>\n",
       "      <td>12/15/2015</td>\n",
       "      <td>December</td>\n",
       "      <td>11/23/2015</td>\n",
       "      <td>November</td>\n",
       "      <td>22</td>\n",
       "      <td>120</td>\n",
       "      <td>US</td>\n",
       "      <td>6169.00</td>\n",
       "      <td>3500.00</td>\n",
       "      <td>4</td>\n",
       "    </tr>\n",
       "    <tr>\n",
       "      <th>331672</th>\n",
       "      <td>331673</td>\n",
       "      <td>Publishing</td>\n",
       "      <td>11/30/2013</td>\n",
       "      <td>November</td>\n",
       "      <td>10/18/2013</td>\n",
       "      <td>October</td>\n",
       "      <td>43</td>\n",
       "      <td>31</td>\n",
       "      <td>US</td>\n",
       "      <td>1732.02</td>\n",
       "      <td>950.00</td>\n",
       "      <td>12</td>\n",
       "    </tr>\n",
       "    <tr>\n",
       "      <th>331673</th>\n",
       "      <td>331674</td>\n",
       "      <td>Music</td>\n",
       "      <td>3/22/2014</td>\n",
       "      <td>March</td>\n",
       "      <td>2/20/2014</td>\n",
       "      <td>February</td>\n",
       "      <td>30</td>\n",
       "      <td>78</td>\n",
       "      <td>CA</td>\n",
       "      <td>4983.69</td>\n",
       "      <td>4529.81</td>\n",
       "      <td>10</td>\n",
       "    </tr>\n",
       "    <tr>\n",
       "      <th>331674</th>\n",
       "      <td>331675</td>\n",
       "      <td>Film &amp; Video</td>\n",
       "      <td>4/28/2015</td>\n",
       "      <td>April</td>\n",
       "      <td>3/29/2015</td>\n",
       "      <td>March</td>\n",
       "      <td>30</td>\n",
       "      <td>36</td>\n",
       "      <td>NO</td>\n",
       "      <td>2875.83</td>\n",
       "      <td>2675.19</td>\n",
       "      <td>6</td>\n",
       "    </tr>\n",
       "  </tbody>\n",
       "</table>\n",
       "<p>331675 rows × 12 columns</p>\n",
       "</div>"
      ],
      "text/plain": [
       "           SID main_category deadline_date deadline_month launched_date  \\\n",
       "0            1    Publishing     10/9/2015        October     8/11/2015   \n",
       "1            2  Film & Video     11/1/2017       November      9/2/2017   \n",
       "2            3  Film & Video     2/26/2013       February     1/12/2013   \n",
       "3            4         Music     4/16/2012          April     3/17/2012   \n",
       "4            5          Food     3/17/2016          March      2/1/2016   \n",
       "...        ...           ...           ...            ...           ...   \n",
       "331670  331671         Games    10/31/2017        October     10/4/2017   \n",
       "331671  331672        Design    12/15/2015       December    11/23/2015   \n",
       "331672  331673    Publishing    11/30/2013       November    10/18/2013   \n",
       "331673  331674         Music     3/22/2014          March     2/20/2014   \n",
       "331674  331675  Film & Video     4/28/2015          April     3/29/2015   \n",
       "\n",
       "       launched_month  Length_of_fundraising  backers country  usd_pledged  \\\n",
       "0              August                     59        0      GB         0.00   \n",
       "1           September                     60       15      US      2421.00   \n",
       "2             January                     45        3      US       220.00   \n",
       "3               March                     30        1      US         1.00   \n",
       "4            February                     45       40      US       453.00   \n",
       "...               ...                    ...      ...     ...          ...   \n",
       "331670        October                     27       35      FR      1452.47   \n",
       "331671       November                     22      120      US      6169.00   \n",
       "331672        October                     43       31      US      1732.02   \n",
       "331673       February                     30       78      CA      4983.69   \n",
       "331674          March                     30       36      NO      2875.83   \n",
       "\n",
       "        usd_goal  main_cat_no  \n",
       "0        1533.95           12  \n",
       "1       30000.00            6  \n",
       "2       45000.00            6  \n",
       "3        5000.00           10  \n",
       "4       25000.00            7  \n",
       "...          ...          ...  \n",
       "331670   1165.70            8  \n",
       "331671   3500.00            4  \n",
       "331672    950.00           12  \n",
       "331673   4529.81           10  \n",
       "331674   2675.19            6  \n",
       "\n",
       "[331675 rows x 12 columns]"
      ]
     },
     "execution_count": 16,
     "metadata": {},
     "output_type": "execute_result"
    }
   ],
   "source": [
    "df"
   ]
  },
  {
   "cell_type": "code",
   "execution_count": 17,
   "metadata": {},
   "outputs": [
    {
     "data": {
      "text/plain": [
       "6     56527\n",
       "10    45949\n",
       "12    35445\n",
       "8     28521\n",
       "13    27050\n",
       "0     25641\n",
       "4     25364\n",
       "7     22054\n",
       "5     19775\n",
       "14    10242\n",
       "1      9878\n",
       "11     9689\n",
       "2      7818\n",
       "9      4149\n",
       "3      3573\n",
       "Name: main_cat_no, dtype: int64"
      ]
     },
     "execution_count": 17,
     "metadata": {},
     "output_type": "execute_result"
    }
   ],
   "source": [
    "df.main_cat_no.value_counts()"
   ]
  },
  {
   "cell_type": "code",
   "execution_count": 18,
   "metadata": {},
   "outputs": [],
   "source": [
    "le1=LabelEncoder()"
   ]
  },
  {
   "cell_type": "code",
   "execution_count": 19,
   "metadata": {},
   "outputs": [],
   "source": [
    "df[['month_n']]=le1.fit_transform(df.launched_month)"
   ]
  },
  {
   "cell_type": "code",
   "execution_count": 20,
   "metadata": {},
   "outputs": [
    {
     "data": {
      "text/html": [
       "<div>\n",
       "<style scoped>\n",
       "    .dataframe tbody tr th:only-of-type {\n",
       "        vertical-align: middle;\n",
       "    }\n",
       "\n",
       "    .dataframe tbody tr th {\n",
       "        vertical-align: top;\n",
       "    }\n",
       "\n",
       "    .dataframe thead th {\n",
       "        text-align: right;\n",
       "    }\n",
       "</style>\n",
       "<table border=\"1\" class=\"dataframe\">\n",
       "  <thead>\n",
       "    <tr style=\"text-align: right;\">\n",
       "      <th></th>\n",
       "      <th>SID</th>\n",
       "      <th>main_category</th>\n",
       "      <th>deadline_date</th>\n",
       "      <th>deadline_month</th>\n",
       "      <th>launched_date</th>\n",
       "      <th>launched_month</th>\n",
       "      <th>Length_of_fundraising</th>\n",
       "      <th>backers</th>\n",
       "      <th>country</th>\n",
       "      <th>usd_pledged</th>\n",
       "      <th>usd_goal</th>\n",
       "      <th>main_cat_no</th>\n",
       "      <th>month_n</th>\n",
       "    </tr>\n",
       "  </thead>\n",
       "  <tbody>\n",
       "    <tr>\n",
       "      <th>0</th>\n",
       "      <td>1</td>\n",
       "      <td>Publishing</td>\n",
       "      <td>10/9/2015</td>\n",
       "      <td>October</td>\n",
       "      <td>8/11/2015</td>\n",
       "      <td>August</td>\n",
       "      <td>59</td>\n",
       "      <td>0</td>\n",
       "      <td>GB</td>\n",
       "      <td>0.00</td>\n",
       "      <td>1533.95</td>\n",
       "      <td>12</td>\n",
       "      <td>1</td>\n",
       "    </tr>\n",
       "    <tr>\n",
       "      <th>1</th>\n",
       "      <td>2</td>\n",
       "      <td>Film &amp; Video</td>\n",
       "      <td>11/1/2017</td>\n",
       "      <td>November</td>\n",
       "      <td>9/2/2017</td>\n",
       "      <td>September</td>\n",
       "      <td>60</td>\n",
       "      <td>15</td>\n",
       "      <td>US</td>\n",
       "      <td>2421.00</td>\n",
       "      <td>30000.00</td>\n",
       "      <td>6</td>\n",
       "      <td>11</td>\n",
       "    </tr>\n",
       "    <tr>\n",
       "      <th>2</th>\n",
       "      <td>3</td>\n",
       "      <td>Film &amp; Video</td>\n",
       "      <td>2/26/2013</td>\n",
       "      <td>February</td>\n",
       "      <td>1/12/2013</td>\n",
       "      <td>January</td>\n",
       "      <td>45</td>\n",
       "      <td>3</td>\n",
       "      <td>US</td>\n",
       "      <td>220.00</td>\n",
       "      <td>45000.00</td>\n",
       "      <td>6</td>\n",
       "      <td>4</td>\n",
       "    </tr>\n",
       "    <tr>\n",
       "      <th>3</th>\n",
       "      <td>4</td>\n",
       "      <td>Music</td>\n",
       "      <td>4/16/2012</td>\n",
       "      <td>April</td>\n",
       "      <td>3/17/2012</td>\n",
       "      <td>March</td>\n",
       "      <td>30</td>\n",
       "      <td>1</td>\n",
       "      <td>US</td>\n",
       "      <td>1.00</td>\n",
       "      <td>5000.00</td>\n",
       "      <td>10</td>\n",
       "      <td>7</td>\n",
       "    </tr>\n",
       "    <tr>\n",
       "      <th>4</th>\n",
       "      <td>5</td>\n",
       "      <td>Food</td>\n",
       "      <td>3/17/2016</td>\n",
       "      <td>March</td>\n",
       "      <td>2/1/2016</td>\n",
       "      <td>February</td>\n",
       "      <td>45</td>\n",
       "      <td>40</td>\n",
       "      <td>US</td>\n",
       "      <td>453.00</td>\n",
       "      <td>25000.00</td>\n",
       "      <td>7</td>\n",
       "      <td>3</td>\n",
       "    </tr>\n",
       "    <tr>\n",
       "      <th>...</th>\n",
       "      <td>...</td>\n",
       "      <td>...</td>\n",
       "      <td>...</td>\n",
       "      <td>...</td>\n",
       "      <td>...</td>\n",
       "      <td>...</td>\n",
       "      <td>...</td>\n",
       "      <td>...</td>\n",
       "      <td>...</td>\n",
       "      <td>...</td>\n",
       "      <td>...</td>\n",
       "      <td>...</td>\n",
       "      <td>...</td>\n",
       "    </tr>\n",
       "    <tr>\n",
       "      <th>331670</th>\n",
       "      <td>331671</td>\n",
       "      <td>Games</td>\n",
       "      <td>10/31/2017</td>\n",
       "      <td>October</td>\n",
       "      <td>10/4/2017</td>\n",
       "      <td>October</td>\n",
       "      <td>27</td>\n",
       "      <td>35</td>\n",
       "      <td>FR</td>\n",
       "      <td>1452.47</td>\n",
       "      <td>1165.70</td>\n",
       "      <td>8</td>\n",
       "      <td>10</td>\n",
       "    </tr>\n",
       "    <tr>\n",
       "      <th>331671</th>\n",
       "      <td>331672</td>\n",
       "      <td>Design</td>\n",
       "      <td>12/15/2015</td>\n",
       "      <td>December</td>\n",
       "      <td>11/23/2015</td>\n",
       "      <td>November</td>\n",
       "      <td>22</td>\n",
       "      <td>120</td>\n",
       "      <td>US</td>\n",
       "      <td>6169.00</td>\n",
       "      <td>3500.00</td>\n",
       "      <td>4</td>\n",
       "      <td>9</td>\n",
       "    </tr>\n",
       "    <tr>\n",
       "      <th>331672</th>\n",
       "      <td>331673</td>\n",
       "      <td>Publishing</td>\n",
       "      <td>11/30/2013</td>\n",
       "      <td>November</td>\n",
       "      <td>10/18/2013</td>\n",
       "      <td>October</td>\n",
       "      <td>43</td>\n",
       "      <td>31</td>\n",
       "      <td>US</td>\n",
       "      <td>1732.02</td>\n",
       "      <td>950.00</td>\n",
       "      <td>12</td>\n",
       "      <td>10</td>\n",
       "    </tr>\n",
       "    <tr>\n",
       "      <th>331673</th>\n",
       "      <td>331674</td>\n",
       "      <td>Music</td>\n",
       "      <td>3/22/2014</td>\n",
       "      <td>March</td>\n",
       "      <td>2/20/2014</td>\n",
       "      <td>February</td>\n",
       "      <td>30</td>\n",
       "      <td>78</td>\n",
       "      <td>CA</td>\n",
       "      <td>4983.69</td>\n",
       "      <td>4529.81</td>\n",
       "      <td>10</td>\n",
       "      <td>3</td>\n",
       "    </tr>\n",
       "    <tr>\n",
       "      <th>331674</th>\n",
       "      <td>331675</td>\n",
       "      <td>Film &amp; Video</td>\n",
       "      <td>4/28/2015</td>\n",
       "      <td>April</td>\n",
       "      <td>3/29/2015</td>\n",
       "      <td>March</td>\n",
       "      <td>30</td>\n",
       "      <td>36</td>\n",
       "      <td>NO</td>\n",
       "      <td>2875.83</td>\n",
       "      <td>2675.19</td>\n",
       "      <td>6</td>\n",
       "      <td>7</td>\n",
       "    </tr>\n",
       "  </tbody>\n",
       "</table>\n",
       "<p>331675 rows × 13 columns</p>\n",
       "</div>"
      ],
      "text/plain": [
       "           SID main_category deadline_date deadline_month launched_date  \\\n",
       "0            1    Publishing     10/9/2015        October     8/11/2015   \n",
       "1            2  Film & Video     11/1/2017       November      9/2/2017   \n",
       "2            3  Film & Video     2/26/2013       February     1/12/2013   \n",
       "3            4         Music     4/16/2012          April     3/17/2012   \n",
       "4            5          Food     3/17/2016          March      2/1/2016   \n",
       "...        ...           ...           ...            ...           ...   \n",
       "331670  331671         Games    10/31/2017        October     10/4/2017   \n",
       "331671  331672        Design    12/15/2015       December    11/23/2015   \n",
       "331672  331673    Publishing    11/30/2013       November    10/18/2013   \n",
       "331673  331674         Music     3/22/2014          March     2/20/2014   \n",
       "331674  331675  Film & Video     4/28/2015          April     3/29/2015   \n",
       "\n",
       "       launched_month  Length_of_fundraising  backers country  usd_pledged  \\\n",
       "0              August                     59        0      GB         0.00   \n",
       "1           September                     60       15      US      2421.00   \n",
       "2             January                     45        3      US       220.00   \n",
       "3               March                     30        1      US         1.00   \n",
       "4            February                     45       40      US       453.00   \n",
       "...               ...                    ...      ...     ...          ...   \n",
       "331670        October                     27       35      FR      1452.47   \n",
       "331671       November                     22      120      US      6169.00   \n",
       "331672        October                     43       31      US      1732.02   \n",
       "331673       February                     30       78      CA      4983.69   \n",
       "331674          March                     30       36      NO      2875.83   \n",
       "\n",
       "        usd_goal  main_cat_no  month_n  \n",
       "0        1533.95           12        1  \n",
       "1       30000.00            6       11  \n",
       "2       45000.00            6        4  \n",
       "3        5000.00           10        7  \n",
       "4       25000.00            7        3  \n",
       "...          ...          ...      ...  \n",
       "331670   1165.70            8       10  \n",
       "331671   3500.00            4        9  \n",
       "331672    950.00           12       10  \n",
       "331673   4529.81           10        3  \n",
       "331674   2675.19            6        7  \n",
       "\n",
       "[331675 rows x 13 columns]"
      ]
     },
     "execution_count": 20,
     "metadata": {},
     "output_type": "execute_result"
    }
   ],
   "source": [
    "df"
   ]
  },
  {
   "cell_type": "markdown",
   "metadata": {},
   "source": [
    "###### Determine the dependent and independent Variable"
   ]
  },
  {
   "cell_type": "code",
   "execution_count": 21,
   "metadata": {},
   "outputs": [],
   "source": [
    "x=df[['main_cat_no','month_n','backers','usd_pledged','usd_goal']]"
   ]
  },
  {
   "cell_type": "code",
   "execution_count": 22,
   "metadata": {},
   "outputs": [],
   "source": [
    "pdf=pd.read_csv('ks_target.csv')"
   ]
  },
  {
   "cell_type": "code",
   "execution_count": 23,
   "metadata": {},
   "outputs": [
    {
     "data": {
      "text/html": [
       "<div>\n",
       "<style scoped>\n",
       "    .dataframe tbody tr th:only-of-type {\n",
       "        vertical-align: middle;\n",
       "    }\n",
       "\n",
       "    .dataframe tbody tr th {\n",
       "        vertical-align: top;\n",
       "    }\n",
       "\n",
       "    .dataframe thead th {\n",
       "        text-align: right;\n",
       "    }\n",
       "</style>\n",
       "<table border=\"1\" class=\"dataframe\">\n",
       "  <thead>\n",
       "    <tr style=\"text-align: right;\">\n",
       "      <th></th>\n",
       "      <th>final_state</th>\n",
       "    </tr>\n",
       "  </thead>\n",
       "  <tbody>\n",
       "    <tr>\n",
       "      <th>0</th>\n",
       "      <td>0</td>\n",
       "    </tr>\n",
       "    <tr>\n",
       "      <th>1</th>\n",
       "      <td>0</td>\n",
       "    </tr>\n",
       "    <tr>\n",
       "      <th>2</th>\n",
       "      <td>0</td>\n",
       "    </tr>\n",
       "    <tr>\n",
       "      <th>3</th>\n",
       "      <td>0</td>\n",
       "    </tr>\n",
       "    <tr>\n",
       "      <th>4</th>\n",
       "      <td>0</td>\n",
       "    </tr>\n",
       "    <tr>\n",
       "      <th>...</th>\n",
       "      <td>...</td>\n",
       "    </tr>\n",
       "    <tr>\n",
       "      <th>331670</th>\n",
       "      <td>1</td>\n",
       "    </tr>\n",
       "    <tr>\n",
       "      <th>331671</th>\n",
       "      <td>1</td>\n",
       "    </tr>\n",
       "    <tr>\n",
       "      <th>331672</th>\n",
       "      <td>1</td>\n",
       "    </tr>\n",
       "    <tr>\n",
       "      <th>331673</th>\n",
       "      <td>1</td>\n",
       "    </tr>\n",
       "    <tr>\n",
       "      <th>331674</th>\n",
       "      <td>1</td>\n",
       "    </tr>\n",
       "  </tbody>\n",
       "</table>\n",
       "<p>331675 rows × 1 columns</p>\n",
       "</div>"
      ],
      "text/plain": [
       "        final_state\n",
       "0                 0\n",
       "1                 0\n",
       "2                 0\n",
       "3                 0\n",
       "4                 0\n",
       "...             ...\n",
       "331670            1\n",
       "331671            1\n",
       "331672            1\n",
       "331673            1\n",
       "331674            1\n",
       "\n",
       "[331675 rows x 1 columns]"
      ]
     },
     "execution_count": 23,
     "metadata": {},
     "output_type": "execute_result"
    }
   ],
   "source": [
    "pdf\n"
   ]
  },
  {
   "cell_type": "code",
   "execution_count": 24,
   "metadata": {},
   "outputs": [],
   "source": [
    "y=pdf"
   ]
  },
  {
   "cell_type": "markdown",
   "metadata": {},
   "source": [
    "###### Spliting data into train and testing "
   ]
  },
  {
   "cell_type": "code",
   "execution_count": 25,
   "metadata": {},
   "outputs": [],
   "source": [
    "from sklearn.model_selection import train_test_split"
   ]
  },
  {
   "cell_type": "code",
   "execution_count": 26,
   "metadata": {},
   "outputs": [],
   "source": [
    "X_train, X_test, y_train, y_test = train_test_split(x, y, test_size=0.33, random_state=50)"
   ]
  },
  {
   "cell_type": "code",
   "execution_count": 27,
   "metadata": {},
   "outputs": [
    {
     "data": {
      "text/html": [
       "<div>\n",
       "<style scoped>\n",
       "    .dataframe tbody tr th:only-of-type {\n",
       "        vertical-align: middle;\n",
       "    }\n",
       "\n",
       "    .dataframe tbody tr th {\n",
       "        vertical-align: top;\n",
       "    }\n",
       "\n",
       "    .dataframe thead th {\n",
       "        text-align: right;\n",
       "    }\n",
       "</style>\n",
       "<table border=\"1\" class=\"dataframe\">\n",
       "  <thead>\n",
       "    <tr style=\"text-align: right;\">\n",
       "      <th></th>\n",
       "      <th>main_cat_no</th>\n",
       "      <th>month_n</th>\n",
       "      <th>backers</th>\n",
       "      <th>usd_pledged</th>\n",
       "      <th>usd_goal</th>\n",
       "    </tr>\n",
       "  </thead>\n",
       "  <tbody>\n",
       "    <tr>\n",
       "      <th>328161</th>\n",
       "      <td>7</td>\n",
       "      <td>5</td>\n",
       "      <td>119</td>\n",
       "      <td>10150.33</td>\n",
       "      <td>10000.00</td>\n",
       "    </tr>\n",
       "    <tr>\n",
       "      <th>103913</th>\n",
       "      <td>7</td>\n",
       "      <td>9</td>\n",
       "      <td>0</td>\n",
       "      <td>0.00</td>\n",
       "      <td>20.00</td>\n",
       "    </tr>\n",
       "    <tr>\n",
       "      <th>290680</th>\n",
       "      <td>4</td>\n",
       "      <td>2</td>\n",
       "      <td>586</td>\n",
       "      <td>98772.46</td>\n",
       "      <td>75867.93</td>\n",
       "    </tr>\n",
       "    <tr>\n",
       "      <th>156332</th>\n",
       "      <td>10</td>\n",
       "      <td>5</td>\n",
       "      <td>11</td>\n",
       "      <td>230.00</td>\n",
       "      <td>2000.00</td>\n",
       "    </tr>\n",
       "    <tr>\n",
       "      <th>195598</th>\n",
       "      <td>6</td>\n",
       "      <td>8</td>\n",
       "      <td>0</td>\n",
       "      <td>0.00</td>\n",
       "      <td>22000.00</td>\n",
       "    </tr>\n",
       "    <tr>\n",
       "      <th>...</th>\n",
       "      <td>...</td>\n",
       "      <td>...</td>\n",
       "      <td>...</td>\n",
       "      <td>...</td>\n",
       "      <td>...</td>\n",
       "    </tr>\n",
       "    <tr>\n",
       "      <th>317510</th>\n",
       "      <td>6</td>\n",
       "      <td>1</td>\n",
       "      <td>31</td>\n",
       "      <td>5792.96</td>\n",
       "      <td>5659.95</td>\n",
       "    </tr>\n",
       "    <tr>\n",
       "      <th>321502</th>\n",
       "      <td>6</td>\n",
       "      <td>11</td>\n",
       "      <td>18</td>\n",
       "      <td>5102.29</td>\n",
       "      <td>4851.62</td>\n",
       "    </tr>\n",
       "    <tr>\n",
       "      <th>153709</th>\n",
       "      <td>8</td>\n",
       "      <td>8</td>\n",
       "      <td>15</td>\n",
       "      <td>382.00</td>\n",
       "      <td>5000.00</td>\n",
       "    </tr>\n",
       "    <tr>\n",
       "      <th>239499</th>\n",
       "      <td>10</td>\n",
       "      <td>2</td>\n",
       "      <td>58</td>\n",
       "      <td>5181.00</td>\n",
       "      <td>5000.00</td>\n",
       "    </tr>\n",
       "    <tr>\n",
       "      <th>103904</th>\n",
       "      <td>0</td>\n",
       "      <td>8</td>\n",
       "      <td>24</td>\n",
       "      <td>2565.00</td>\n",
       "      <td>3000.00</td>\n",
       "    </tr>\n",
       "  </tbody>\n",
       "</table>\n",
       "<p>222222 rows × 5 columns</p>\n",
       "</div>"
      ],
      "text/plain": [
       "        main_cat_no  month_n  backers  usd_pledged  usd_goal\n",
       "328161            7        5      119     10150.33  10000.00\n",
       "103913            7        9        0         0.00     20.00\n",
       "290680            4        2      586     98772.46  75867.93\n",
       "156332           10        5       11       230.00   2000.00\n",
       "195598            6        8        0         0.00  22000.00\n",
       "...             ...      ...      ...          ...       ...\n",
       "317510            6        1       31      5792.96   5659.95\n",
       "321502            6       11       18      5102.29   4851.62\n",
       "153709            8        8       15       382.00   5000.00\n",
       "239499           10        2       58      5181.00   5000.00\n",
       "103904            0        8       24      2565.00   3000.00\n",
       "\n",
       "[222222 rows x 5 columns]"
      ]
     },
     "execution_count": 27,
     "metadata": {},
     "output_type": "execute_result"
    }
   ],
   "source": [
    "X_train"
   ]
  },
  {
   "cell_type": "markdown",
   "metadata": {},
   "source": [
    "######  Train the model with training dataset"
   ]
  },
  {
   "cell_type": "code",
   "execution_count": 28,
   "metadata": {},
   "outputs": [],
   "source": [
    "from sklearn.ensemble import RandomForestClassifier\n",
    "rf=RandomForestClassifier()"
   ]
  },
  {
   "cell_type": "code",
   "execution_count": 29,
   "metadata": {},
   "outputs": [
    {
     "name": "stderr",
     "output_type": "stream",
     "text": [
      "<ipython-input-29-d6d9475b85dc>:1: DataConversionWarning: A column-vector y was passed when a 1d array was expected. Please change the shape of y to (n_samples,), for example using ravel().\n",
      "  rf.fit(X_train,y_train)\n"
     ]
    },
    {
     "data": {
      "text/plain": [
       "RandomForestClassifier()"
      ]
     },
     "execution_count": 29,
     "metadata": {},
     "output_type": "execute_result"
    }
   ],
   "source": [
    "rf.fit(X_train,y_train)"
   ]
  },
  {
   "cell_type": "code",
   "execution_count": 32,
   "metadata": {},
   "outputs": [
    {
     "data": {
      "text/plain": [
       "array([1, 0, 1, ..., 1, 1, 0], dtype=int64)"
      ]
     },
     "execution_count": 32,
     "metadata": {},
     "output_type": "execute_result"
    }
   ],
   "source": [
    "rf.predict(X_test)"
   ]
  },
  {
   "cell_type": "code",
   "execution_count": 33,
   "metadata": {},
   "outputs": [
    {
     "data": {
      "text/plain": [
       "0.9987483211972262"
      ]
     },
     "execution_count": 33,
     "metadata": {},
     "output_type": "execute_result"
    }
   ],
   "source": [
    "rf.score(X_test,y_test)"
   ]
  },
  {
   "cell_type": "markdown",
   "metadata": {},
   "source": [
    "######  Saving the Model"
   ]
  },
  {
   "cell_type": "code",
   "execution_count": 34,
   "metadata": {},
   "outputs": [],
   "source": [
    "import pickle"
   ]
  },
  {
   "cell_type": "code",
   "execution_count": null,
   "metadata": {},
   "outputs": [],
   "source": [
    "pickle.dump(rf,open(\"model_\",'wb'))"
   ]
  }
 ],
 "metadata": {
  "kernelspec": {
   "display_name": "Python 3",
   "language": "python",
   "name": "python3"
  }
 },
 "nbformat": 4,
 "nbformat_minor": 4
}
